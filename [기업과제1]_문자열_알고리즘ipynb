{
  "nbformat": 4,
  "nbformat_minor": 0,
  "metadata": {
    "colab": {
      "name": "[기업과제]_문자열_알고리즘_배하니.ipynb",
      "provenance": [],
      "include_colab_link": true
    },
    "kernelspec": {
      "name": "python3",
      "display_name": "Python 3"
    },
    "language_info": {
      "name": "python"
    }
  },
  "cells": [
    {
      "cell_type": "markdown",
      "metadata": {
        "id": "view-in-github",
        "colab_type": "text"
      },
      "source": [
        "<a href=\"https://colab.research.google.com/github/pitapatat/wanted_pre_onboarding/blob/main/%5B%EA%B8%B0%EC%97%85%EA%B3%BC%EC%A0%9C%5D_%EB%AC%B8%EC%9E%90%EC%97%B4_%EC%95%8C%EA%B3%A0%EB%A6%AC%EC%A6%98_%EB%B0%B0%ED%95%98%EB%8B%88.ipynb\" target=\"_parent\"><img src=\"https://colab.research.google.com/assets/colab-badge.svg\" alt=\"Open In Colab\"/></a>"
      ]
    },
    {
      "cell_type": "markdown",
      "source": [
        "### 1. 문자열의 여러부분 문자열 중 하나라도 집합 S에 있으면 'YES'를 출력하고 아무것도 없으면 'NO'를 출력한다."
      ],
      "metadata": {
        "id": "zmKRAh0Tlmdw"
      }
    },
    {
      "cell_type": "code",
      "source": [
        "S = [\"aaa\",\"aaaabb\", \"aabbcc\", \"abb\", \"bcc\", \"bbcc\", \"aabbccdd\", \"aaabb\", \"cccd\"]\n",
        "Q = [\"aaaabbaabbccdd\", \"aaaabbaabbccdd\"]"
      ],
      "metadata": {
        "id": "qHPWdgesF82w"
      },
      "execution_count": null,
      "outputs": []
    },
    {
      "cell_type": "code",
      "source": [
        "## 입력\n",
        "len_s=int(input(\"문자열 집합 S의 원소개수 : \"))\n",
        "S = str(input(\"집합 S 입력: \").split(\",\"))\n",
        "print(\"==\"*40)\n",
        "len_q=int(input(\"매칭대상 문자열 Q의 수 :8\"))\n",
        "print(\"==\"*40)"
      ],
      "metadata": {
        "id": "rLOZhy8OnI5B"
      },
      "execution_count": null,
      "outputs": []
    },
    {
      "cell_type": "code",
      "source": [
        "print(S)\n",
        "print(Q)"
      ],
      "metadata": {
        "colab": {
          "base_uri": "https://localhost:8080/"
        },
        "id": "rwK1cidlvZ0h",
        "outputId": "0628576b-f590-41d0-c5ec-c332c3954c54"
      },
      "execution_count": null,
      "outputs": [
        {
          "output_type": "stream",
          "name": "stdout",
          "text": [
            "['aaa', 'aaaabb', 'aabbcc', 'abb', 'bcc', 'bbcc', 'aabbccdd', 'aaabb', 'cccd']\n",
            "['aaaabbaabbccdd', 'aaaabbaabbccdd']\n"
          ]
        }
      ]
    },
    {
      "cell_type": "code",
      "source": [
        "## Q의 문자열수가 2개 이상인 경우 list in list 형태로 answer 출력\n",
        "answer_total = []\n",
        "for q in Q:\n",
        "    answer = []\n",
        "    ## q의 문자열에 s의 문자열의 존재유무 : s in q\n",
        "    for i in range(len(S)):\n",
        "        answer.append(str(S[i] in q))\n",
        "        ## 결과는 True/False 로 출력(bool -> str)\n",
        "    answer_total.append(answer)\n",
        "\n",
        "print(answer_total)\n",
        "print(answer)\n",
        "\n",
        "## True/False -> YES/NO\n",
        "dic = {'True':'YES', 'False':'NO'}\n",
        "\n",
        "answer_tf = []\n",
        "for ans in answer_total:\n",
        "    answer_f = []\n",
        "    for a in ans:\n",
        "        answer_f.append(dic[a])\n",
        "    answer_tf.append(answer_f)\n",
        "print(\"==\"*10 + \"최종 결과\"+\"==\"*10)\n",
        "print(answer_tf)\n"
      ],
      "metadata": {
        "colab": {
          "base_uri": "https://localhost:8080/"
        },
        "id": "3xfwnGBbYCI0",
        "outputId": "7d4e4772-835f-4153-9cc9-0b88917bfb53"
      },
      "execution_count": null,
      "outputs": [
        {
          "output_type": "stream",
          "name": "stdout",
          "text": [
            "[['True', 'True', 'True', 'True', 'True', 'True', 'True', 'True', 'False'], ['True', 'True', 'True', 'True', 'True', 'True', 'True', 'True', 'False']]\n",
            "['True', 'True', 'True', 'True', 'True', 'True', 'True', 'True', 'False']\n",
            "====================최종 결과====================\n",
            "[['YES', 'YES', 'YES', 'YES', 'YES', 'YES', 'YES', 'YES', 'NO'], ['YES', 'YES', 'YES', 'YES', 'YES', 'YES', 'YES', 'YES', 'NO']]\n"
          ]
        }
      ]
    },
    {
      "cell_type": "markdown",
      "source": [
        "### 2. 첫번쨰로 매칭된 패턴의 시작포지션과 문자열 패턴을 출력한다."
      ],
      "metadata": {
        "id": "erMMMVc4tEm4"
      }
    },
    {
      "cell_type": "code",
      "source": [
        "for q in Q:\n",
        "    print(\"===\"*40)\n",
        "    for si in S:\n",
        "        ## 매칭 문자열 집합 S의 원소가 몇 개나 있는지 : str.count(\"find\")\n",
        "        x = q.count(si)\n",
        "        ## 만약 매칭되는 문자열이 하나라도 있다면(!=0) 해당 인덱스 반환 : str.index(\"find\")\n",
        "        if x != 0:\n",
        "            idx = q.index(si)\n",
        "        print(\"#pos = \"+ f\"{idx}\"+ \", \"+ \"pattern = \"+f\"{si}\")"
      ],
      "metadata": {
        "colab": {
          "base_uri": "https://localhost:8080/"
        },
        "id": "FPVwblPjtDZU",
        "outputId": "3a6ed65c-77f4-4952-8319-9dcaea5d4809"
      },
      "execution_count": null,
      "outputs": [
        {
          "output_type": "stream",
          "name": "stdout",
          "text": [
            "========================================================================================================================\n",
            "#pos = 0, pattern = aaa\n",
            "#pos = 0, pattern = aaaabb\n",
            "#pos = 6, pattern = aabbcc\n",
            "#pos = 3, pattern = abb\n",
            "#pos = 9, pattern = bcc\n",
            "#pos = 8, pattern = bbcc\n",
            "#pos = 6, pattern = aabbccdd\n",
            "#pos = 1, pattern = aaabb\n",
            "#pos = 1, pattern = cccd\n",
            "========================================================================================================================\n",
            "#pos = 0, pattern = aaa\n",
            "#pos = 0, pattern = aaaabb\n",
            "#pos = 6, pattern = aabbcc\n",
            "#pos = 3, pattern = abb\n",
            "#pos = 9, pattern = bcc\n",
            "#pos = 8, pattern = bbcc\n",
            "#pos = 6, pattern = aabbccdd\n",
            "#pos = 1, pattern = aaabb\n",
            "#pos = 1, pattern = cccd\n"
          ]
        }
      ]
    },
    {
      "cell_type": "markdown",
      "source": [
        "### 3. 가능한 모든 문자열 패턴의 시작 포지션과 문자열 패턴을 출력한다."
      ],
      "metadata": {
        "id": "ntcf9mmtudwE"
      }
    },
    {
      "cell_type": "code",
      "source": [
        "## 매칭 문자열들의 length\n",
        "len_si = [len(si) for si in S]\n",
        "len_si\n",
        "\n",
        "for q in Q:\n",
        "    print(\"===\"*40)\n",
        "    for si in S:\n",
        "        ## 매칭 문자열 집합 S의 원소가 몇 개나 있는지\n",
        "        x = q.count(si)\n",
        "        #print(x)\n",
        "        ## 만약 매칭되는 문자열이 하나라도 있다면(!=0) \n",
        "        if x != 0:\n",
        "            idx = q.index(si)        \n",
        "            print(\"#pos = \"+ f\"{idx}\"+ \", \"+ \"pattern = \"+f\"{si}\")\n",
        "            count = 1    \n",
        "\n",
        "            # 매칭 문자열이 2개 이상인 경우 :매칭문자열을 q 문자열에 한칸씩 이동하면서 매칭\n",
        "            if x > 1:                                             \n",
        "                # i : 시작점(처음 매칭 인덱스 발견 +1 시점부터 시작 - 한칸씩 증가)\n",
        "                ## 이떄 i는 len(q) -len(si) 보다 크면 안됨(그러면 문자열 밖으로 나감)\n",
        "                for i in range(idx+1, len(q)-len(si)):\n",
        "                    ## 등장횟수 맞을 때 까지 시행\n",
        "                    if count < x:                                                    \n",
        "                        if si in q[i:]:\n",
        "                            ###(!!!)인덱스가 밀린채로 0부터 시작하므로 이를 보정해야 함\n",
        "                            idx = q[i:].index(si) + idx+1\n",
        "                            count +=1\n",
        "                            print(\"#pos = \"+ f\"{idx}\"+ \", \"+ \"pattern = \"+f\"{si}\")\n",
        "\n",
        "           \n"
      ],
      "metadata": {
        "colab": {
          "base_uri": "https://localhost:8080/"
        },
        "id": "qsdItb3WudfU",
        "outputId": "52057c24-b54f-4d47-f7d2-2b39b8fd39bb"
      },
      "execution_count": null,
      "outputs": [
        {
          "output_type": "stream",
          "name": "stdout",
          "text": [
            "========================================================================================================================\n",
            "#pos = 0, pattern = aaa\n",
            "#pos = 0, pattern = aaaabb\n",
            "#pos = 6, pattern = aabbcc\n",
            "#pos = 3, pattern = abb\n",
            "#pos = 7, pattern = abb\n",
            "#pos = 9, pattern = bcc\n",
            "#pos = 8, pattern = bbcc\n",
            "#pos = 6, pattern = aabbccdd\n",
            "#pos = 1, pattern = aaabb\n",
            "========================================================================================================================\n",
            "#pos = 0, pattern = aaa\n",
            "#pos = 0, pattern = aaaabb\n",
            "#pos = 6, pattern = aabbcc\n",
            "#pos = 3, pattern = abb\n",
            "#pos = 7, pattern = abb\n",
            "#pos = 9, pattern = bcc\n",
            "#pos = 8, pattern = bbcc\n",
            "#pos = 6, pattern = aabbccdd\n",
            "#pos = 1, pattern = aaabb\n"
          ]
        }
      ]
    }
  ]
}
