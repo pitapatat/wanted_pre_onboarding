{
  "nbformat": 4,
  "nbformat_minor": 0,
  "metadata": {
    "colab": {
      "name": "help.py",
      "provenance": [],
      "authorship_tag": "ABX9TyOHiNC8fGrHyOY7SxVZieNy",
      "include_colab_link": true
    },
    "kernelspec": {
      "name": "python3",
      "display_name": "Python 3"
    },
    "language_info": {
      "name": "python"
    },
    "accelerator": "GPU"
  },
  "cells": [
    {
      "cell_type": "markdown",
      "metadata": {
        "id": "view-in-github",
        "colab_type": "text"
      },
      "source": [
        "<a href=\"https://colab.research.google.com/github/pitapatat/wanted_pre_onboarding/blob/main/help_py.ipynb\" target=\"_parent\"><img src=\"https://colab.research.google.com/assets/colab-badge.svg\" alt=\"Open In Colab\"/></a>"
      ]
    },
    {
      "cell_type": "markdown",
      "source": [
        "1. 첨부된 'Week2_3_assginment.ipynb'를 다운로드 받아서 문제 푸시고, help.py과 최종 코드 파일(.ipynb)을 제출하세요.\n",
        "    help.py에 포함되어야 할 함수와 클래스는 아래와 같습니다.\n",
        "스크립트 내 포함해야하는 함수\n",
        "- set_device()\n",
        "- custom_collate_fn()\n",
        "포함해야하는 클래스\n",
        "- CustomDataset\n",
        "- CustomClassifier"
      ],
      "metadata": {
        "id": "i8YkkaQ6WKmU"
      }
    },
    {
      "cell_type": "code",
      "source": [
        "### library\n",
        "import os\n",
        "import sys\n",
        "import pandas as pd\n",
        "import numpy as np \n",
        "import torch\n",
        "import random\n",
        "from torch.utils.data import Dataset, DataLoader, RandomSampler, SequentialSampler, random_split\n",
        "!pip install transformers\n",
        "from transformers import BertTokenizer, BertModel\n",
        "import torch.nn as nn\n",
        "import torch.nn.functional as F\n",
        "from torch.optim import AdamW\n",
        "from torch.nn import CrossEntropyLoss"
      ],
      "metadata": {
        "id": "rnD6FlxLW9js"
      },
      "execution_count": null,
      "outputs": []
    },
    {
      "cell_type": "code",
      "source": [
        "## 데이터 다운로드\n",
        "!wget https://raw.githubusercontent.com/ChristinaROK/PreOnboarding_AI_assets/e56006adfac42f8a2975db0ebbe60eacbe1c6b11/data/sample_df.csv"
      ],
      "metadata": {
        "id": "5cY6hpUVaR3D"
      },
      "execution_count": null,
      "outputs": []
    },
    {
      "cell_type": "code",
      "execution_count": null,
      "metadata": {
        "id": "PIQBmiDtWEa-"
      },
      "outputs": [],
      "source": [
        "## set_device()\n",
        "def set_device():\n",
        "    if torch.cuda.is_available():\n",
        "        device = torch.device(\"cuda\")\n",
        "        print(f\"# available GPUs : {torch.cuda.device_count()}\")\n",
        "        print(f\"GPU name : {torch.cuda.get_device_name()}\")\n",
        "    else:\n",
        "        device = torch.device(\"cpu\")\n",
        "    return(device)\n",
        "\n",
        "###################################################################################################\n",
        "## CustomDataSet \n",
        "class CustomDataset(Dataset):\n",
        "  \"\"\"\n",
        "  - input_data: list of string\n",
        "  - target_data: list of int\n",
        "  \"\"\"\n",
        "  ## 데이터 전처리\n",
        "  def __init__(self, input_data:list, target_data:list) -> list:\n",
        "      self.X = input_data\n",
        "      self.Y = target_data\n",
        "\n",
        "  ## 데이터셋 길이\n",
        "  def __len__(self):\n",
        "      return len(self.Y)\n",
        "      \n",
        "  ## index넣으면 데이터 가져오기\n",
        "  def __getitem__(self, index):\n",
        "      result = (self.X[index], self.Y[index])\n",
        "      return result\n",
        "\n",
        "tokenizer_bert = BertTokenizer.from_pretrained(\"klue/bert-base\")\n",
        "\n",
        "###################################################################################################\n",
        "## custom_collate_fn\n",
        "def custom_collate_fn(batch):\n",
        "\n",
        "  global tokenizer_bert\n",
        "\n",
        "  # batch: list of tuples (input_data(string), target_data(int))\n",
        "  input_list, target_list = [], []\n",
        "  for text, label in batch:\n",
        "      input_list.append(text)\n",
        "      target_list.append(label)\n",
        "  \n",
        "  # 토큰 개수는 배치 내 가장 긴 문장(longest), 최대 길이를 넘는 문장은 최대 길이 이후의 토큰을 제거(truncation), 토크나이즈된 결과 값은 텐서 형태로 반환(return_tensors = 'pt')\n",
        "  tensorized_input = tokenizer_bert(input_list,\n",
        "                                    return_tensors = 'pt', \n",
        "                                    truncation = True, \n",
        "                                    padding='longest')\n",
        "  \n",
        "  tensorized_label = torch.tensor(target_list)\n",
        "\n",
        "  # return type: (tensor)\n",
        "  return tensorized_input, tensorized_label\n",
        "\n",
        "###################################################################################################\n",
        "## CustomClassifier\n",
        "class CustomClassifier(nn.Module):\n",
        "\n",
        "  # nn.Module 상속 \n",
        "  def __init__(self, hidden_size: int, n_label: int):\n",
        "    super(CustomClassifier, self).__init__()\n",
        "\n",
        "    self.bert = BertModel.from_pretrained('klue/bert-base')\n",
        "    self.hidden_size = hidden_size \n",
        "    self.n_label = n_label\n",
        "\n",
        "    dropout_rate = 0.1\n",
        "    linear_layer_hidden_size = 32\n",
        "\n",
        "    self.classifier = nn.Sequential(\n",
        "                        nn.Linear(self.hidden_size, linear_layer_hidden_size),\n",
        "                        nn.ReLU(),\n",
        "                        nn.Dropout(p = dropout_rate),\n",
        "                        nn.Linear(linear_layer_hidden_size, self.n_label))\n",
        " \n",
        "  \n",
        "  def forward(self, input_ids=None, attention_mask=None, token_type_ids=None):\n",
        "    outputs =self.bert(\n",
        "        input_ids,\n",
        "        attention_mask=attention_mask,\n",
        "        token_type_ids=token_type_ids,\n",
        "    )\n",
        "\n",
        "    # BERT 모델의 마지막 레이어의 첫번재 토큰을 인덱싱\n",
        "    cls_token_last_hidden_states = outputs['pooler_output'] # 마지막 layer의 첫 번째 토큰 (\"[CLS]\") 벡터를 가져오기, shape = (1, hidden_size)\n",
        "    logits = self.classifier(cls_token_last_hidden_states)\n",
        "    \n",
        "    return logits"
      ]
    },
    {
      "cell_type": "code",
      "source": [
        "## 모델 훈련 함수\n",
        "def train(model, data_loader):\n",
        "  global loss_fct\n",
        "  device = set_device()\n",
        "\n",
        "  # 배치 단위 평균 loss와 총 평균 loss 계산하기위해 변수 생성\n",
        "  total_loss, batch_loss, batch_count = 0,0,0\n",
        "  \n",
        "  # model을 train 모드로 설정 & device 할당\n",
        "  model.train()\n",
        "  model.to(device)\n",
        "  \n",
        "  # data iterator를 돌면서 하나씩 학습\n",
        "  for step, batch in enumerate(data_loader):\n",
        "      batch_count+=1\n",
        "      \n",
        "      # tensor 연산 전, 각 tensor에 device 할당\n",
        "      batch = tuple(item.to(device) for item in batch)\n",
        "      \n",
        "      batch_input, batch_label = batch\n",
        "      \n",
        "      # batch마다 모델이 갖고 있는 기존 gradient를 초기화\n",
        "      model.zero_grad()\n",
        "      \n",
        "      # forward\n",
        "      logits = model(**batch_input)\n",
        "      \n",
        "      # loss\n",
        "      loss = loss_fct(logits, batch_label)\n",
        "      batch_loss += loss.item()\n",
        "      total_loss += loss.item()\n",
        "      \n",
        "      # backward -> 파라미터의 미분(gradient)를 자동으로 계산\n",
        "      loss.backward()\n",
        "      \n",
        "      # optimizer 업데이트\n",
        "      optimizer.step()\n",
        "      \n",
        "      # 배치 10개씩 처리할 때마다 평균 loss를 출력\n",
        "      if (step % 10 == 0 and step != 0):\n",
        "          print(f\"Step : {step}, Avg Loss : {batch_loss / batch_count:.4f}\")\n",
        "          \n",
        "          # 변수 초기화 \n",
        "          batch_loss, batch_count = 0,0\n",
        "  \n",
        "  print(f\"Mean Loss : {total_loss/(step+1):.4f}\")\n",
        "  print(\"Train Finished\")"
      ],
      "metadata": {
        "id": "aaTKLj9nZeRk"
      },
      "execution_count": null,
      "outputs": []
    },
    {
      "cell_type": "code",
      "source": [
        "## 모델 구현 \n",
        "sample_df = pd.read_csv('sample_df.csv')"
      ],
      "metadata": {
        "id": "RZeCkYpdaaFi"
      },
      "execution_count": null,
      "outputs": []
    },
    {
      "cell_type": "code",
      "source": [
        "# dataset \n",
        "dataset = CustomDataset(list(sample_df.document.values),list(sample_df.label.values))\n",
        "n_train = 9000\n",
        "n_valid = 1000\n",
        "train_dataset, valid_dataset = random_split(dataset, [n_train, n_valid])\n",
        "\n",
        "# dataloader 정의 \n",
        "random_sampler = RandomSampler(train_dataset)\n",
        "seq_sampler = SequentialSampler(valid_dataset) \n",
        "train_dataloader =  DataLoader(train_dataset, batch_size = 32, sampler = random_sampler, \n",
        "                             collate_fn = custom_collate_fn)\n",
        "valid_dataloader =  DataLoader(valid_dataset, batch_size = 64, sampler = seq_sampler,\n",
        "                               collate_fn = custom_collate_fn)\n",
        "\n",
        "# 모델 인스턴스\n",
        "model = CustomClassifier(hidden_size=768, n_label=2)\n",
        "\n",
        "# 데이터로더\n",
        "batch_size = 32\n",
        "train_dataloader = DataLoader(train_dataset, batch_size = 32, sampler = random_sampler, \n",
        "                             collate_fn = custom_collate_fn)\n",
        "\n",
        "# 로스 및 옵티마이저\n",
        "loss_fct = CrossEntropyLoss()\n",
        "optimizer = AdamW(\n",
        "    model.parameters(),\n",
        "    lr=2e-5,\n",
        "    eps=1e-8\n",
        ")\n",
        "\n",
        "# 학습 시작\n",
        "train(model, train_dataloader)"
      ],
      "metadata": {
        "colab": {
          "base_uri": "https://localhost:8080/"
        },
        "id": "fMDrFdKHW7tF",
        "outputId": "cff03814-300b-4991-aaba-77a6bfa3bb5c"
      },
      "execution_count": null,
      "outputs": [
        {
          "output_type": "stream",
          "name": "stderr",
          "text": [
            "Some weights of the model checkpoint at klue/bert-base were not used when initializing BertModel: ['cls.predictions.transform.LayerNorm.weight', 'cls.predictions.decoder.bias', 'cls.predictions.transform.dense.bias', 'cls.predictions.bias', 'cls.predictions.transform.LayerNorm.bias', 'cls.seq_relationship.bias', 'cls.predictions.transform.dense.weight', 'cls.predictions.decoder.weight', 'cls.seq_relationship.weight']\n",
            "- This IS expected if you are initializing BertModel from the checkpoint of a model trained on another task or with another architecture (e.g. initializing a BertForSequenceClassification model from a BertForPreTraining model).\n",
            "- This IS NOT expected if you are initializing BertModel from the checkpoint of a model that you expect to be exactly identical (initializing a BertForSequenceClassification model from a BertForSequenceClassification model).\n"
          ]
        },
        {
          "output_type": "stream",
          "name": "stdout",
          "text": [
            "# available GPUs : 1\n",
            "GPU name : Tesla P100-PCIE-16GB\n",
            "Step : 10, Avg Loss : 0.6824\n",
            "Step : 20, Avg Loss : 0.6265\n",
            "Step : 30, Avg Loss : 0.5405\n",
            "Step : 40, Avg Loss : 0.4647\n",
            "Step : 50, Avg Loss : 0.4084\n",
            "Step : 60, Avg Loss : 0.4684\n",
            "Step : 70, Avg Loss : 0.4018\n",
            "Step : 80, Avg Loss : 0.3706\n",
            "Step : 90, Avg Loss : 0.4090\n",
            "Step : 100, Avg Loss : 0.3917\n",
            "Step : 110, Avg Loss : 0.4049\n",
            "Step : 120, Avg Loss : 0.4052\n",
            "Step : 130, Avg Loss : 0.3913\n",
            "Step : 140, Avg Loss : 0.3930\n",
            "Step : 150, Avg Loss : 0.3624\n",
            "Step : 160, Avg Loss : 0.3956\n",
            "Step : 170, Avg Loss : 0.3488\n",
            "Step : 180, Avg Loss : 0.3180\n",
            "Step : 190, Avg Loss : 0.3495\n",
            "Step : 200, Avg Loss : 0.3614\n",
            "Step : 210, Avg Loss : 0.3810\n",
            "Step : 220, Avg Loss : 0.3451\n",
            "Step : 230, Avg Loss : 0.3843\n",
            "Step : 240, Avg Loss : 0.3109\n",
            "Step : 250, Avg Loss : 0.3550\n",
            "Step : 260, Avg Loss : 0.3312\n",
            "Step : 270, Avg Loss : 0.3184\n",
            "Step : 280, Avg Loss : 0.3822\n",
            "Mean Loss : 0.4041\n",
            "Train Finished\n"
          ]
        }
      ]
    }
  ]
}
