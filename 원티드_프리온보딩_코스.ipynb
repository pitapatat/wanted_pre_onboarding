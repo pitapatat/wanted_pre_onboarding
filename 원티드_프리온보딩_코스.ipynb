{
  "nbformat": 4,
  "nbformat_minor": 0,
  "metadata": {
    "colab": {
      "name": "원티드 프리온보딩 코스.ipynb",
      "provenance": [],
      "collapsed_sections": [],
      "authorship_tag": "ABX9TyPAQ4oSL74rei5hmBI2GvQL",
      "include_colab_link": true
    },
    "kernelspec": {
      "name": "python3",
      "display_name": "Python 3"
    },
    "language_info": {
      "name": "python"
    }
  },
  "cells": [
    {
      "cell_type": "markdown",
      "metadata": {
        "id": "view-in-github",
        "colab_type": "text"
      },
      "source": [
        "<a href=\"https://colab.research.google.com/github/pitapatat/wanted_pre_onboarding/blob/main/%EC%9B%90%ED%8B%B0%EB%93%9C_%ED%94%84%EB%A6%AC%EC%98%A8%EB%B3%B4%EB%94%A9_%EC%BD%94%EC%8A%A4.ipynb\" target=\"_parent\"><img src=\"https://colab.research.google.com/assets/colab-badge.svg\" alt=\"Open In Colab\"/></a>"
      ]
    },
    {
      "cell_type": "markdown",
      "source": [
        "## (1) Tokenizer 생성하기"
      ],
      "metadata": {
        "id": "B0KzmQRLQBzd"
      }
    },
    {
      "cell_type": "code",
      "source": [
        "# library\n",
        "import re"
      ],
      "metadata": {
        "id": "lEjUQi09zEel"
      },
      "execution_count": null,
      "outputs": []
    },
    {
      "cell_type": "code",
      "execution_count": null,
      "metadata": {
        "id": "TM1xMg_APtTd"
      },
      "outputs": [],
      "source": [
        "class Tokenizer():\n",
        "    def __init__(self):\n",
        "        self.word_dict = {'oov': 0}\n",
        "        self.fit_checker = False\n",
        "\n",
        "    # 텍스트 전처리 함수\n",
        "    def preprocessing(self, sequences):\n",
        "\n",
        "        ''' - input(sequences)\n",
        "            - 정규표현식 통해 소문자 변환, 특수문자 제거\n",
        "            - output(result): whitespace 단위로 토큰화된 단어(nested list)\n",
        "            '''\n",
        "\n",
        "        result = []\n",
        "        for word in sequences:\n",
        "            tokenized= re.sub(r'[^a-z0-9 ]', '', word.strip().lower()).split(' ')\n",
        "            result.append(tokenized)\n",
        "        print(f\"tokenized sentences : {result}\")\n",
        "        return result   \n",
        "    \n",
        "    # 어휘사전 구축 함수\n",
        "    def fit(self, sequences):\n",
        "\n",
        "        ''' - 텍스트 전처리 함수 수행 후 반환값 : 토큰화된 단어(tokens)\n",
        "            - 중복 제거 후 토큰화된 단어에 정수 인덱싱 \n",
        "            - 어휘사전(word_dict) 생성(dictionary)\n",
        "            '''\n",
        "\n",
        "        self.fit_checker = False\n",
        "        total_words = []\n",
        "        tokens = self.preprocessing(sequences)\n",
        "        for token in tokens:\n",
        "            total_words.extend(token)\n",
        "        words = list(set(total_words))\n",
        "\n",
        "        for i, word in enumerate(words):\n",
        "            self.word_dict[word] = i+1\n",
        "        print(f\"word_dict: {self.word_dict}, 어휘사전 길이: {len(self.word_dict)}\")\n",
        "        self.fit_checker = True\n",
        "    \n",
        "    # 입력 문장 정수 인덱싱 함수\n",
        "    def transform(self, sequences):\n",
        "\n",
        "        ''' - 어휘사전 활용하여 문자 -> 정수 인덱싱\n",
        "            - 사전에 없는 단어는 0으로 인덱싱\n",
        "            - output(result): 입력문장 정수 인덱싱 결과(nested list)\n",
        "            '''\n",
        "\n",
        "        result = []\n",
        "        tokens = self.preprocessing(sequences)    \n",
        "        if self.fit_checker:\n",
        "            for token in tokens:\n",
        "                indexes = [self.word_dict[i] if i in list(self.word_dict.keys()) else self.word_dict['oov'] for i in token]\n",
        "                result.append(indexes)  \n",
        "            #print(f\"result of indexing for each sentence : {result}\")\n",
        "            return result\n",
        "        else:\n",
        "            raise Exception(\"Tokenizer instance is not fitted yet.\")\n",
        "    \n",
        "    def fit_transform(self, sequences):\n",
        "        self.fit(sequences)\n",
        "        result = self.transform(sequences)\n",
        "        return result\n"
      ]
    },
    {
      "cell_type": "markdown",
      "source": [
        "## (2) TfidfVectorizer 생성하기\n"
      ],
      "metadata": {
        "id": "epNaGN7RQTcC"
      }
    },
    {
      "cell_type": "code",
      "source": [
        "#library\n",
        "import numpy as np\n",
        "from collections import Counter"
      ],
      "metadata": {
        "id": "xmfWsxHHRPfC"
      },
      "execution_count": null,
      "outputs": []
    },
    {
      "cell_type": "code",
      "source": [
        "class TfidfVectorizer:\n",
        "    def __init__(self, tokenizer):\n",
        "        self.tokenizer = tokenizer\n",
        "        self.fit_checker = False\n",
        "    \n",
        "    # idf 행렬 생성 함수\n",
        "    def fit(self, sequences):\n",
        "\n",
        "        ''' - input(sequences): Tokenizer() 통해 토큰화 -> 정수 인덱싱 \n",
        "            - n:전체 문장수(len(sequences)), d:문장(d = 1,..,len(sequences)-1), t: 어휘사전 내 토큰화된 단어(t = 1,.., len(self.word_dict)))\n",
        "            - df(d,t): 단어 t가 포함된 문장 d의 갯수 \n",
        "            - idf(d,t) = np.log(n/1+df(d,t))\n",
        "            '''\n",
        "\n",
        "        tokenized = self.tokenizer.fit_transform(sequences)\n",
        "\n",
        "        df_dict = Counter()  # 특정 단어(index)가 포함된 문장 갯수 세기(df_dict)\n",
        "        for token in tokenized:\n",
        "            df_dict.update(token)    \n",
        "        #print(f\"df_ditc: {df_dict}\") \n",
        "        \n",
        "        # 어휘사전의 단어(word_dict)를 기준으로 특정 단어가 포함된 문장의 갯수를 1차원 vector로 표현\n",
        "        df_matrix = [df_dict[i] if i in df_dict.keys() else 0 for i in range(len(self.tokenizer.word_dict))]\n",
        "        print(f\"df_matrix: {df_matrix}\") \n",
        "\n",
        "        n = len(tokenized)  # 전체 입력문장의 수    \n",
        "        idf_matrix = [np.round(np.log(n/(df+1)), 6) for df in df_matrix]  # 공식에 따른 idf_matrix 생성\n",
        "        idf_matrix = [0 if idf < 0 else idf for idf in idf_matrix]   # idf < 0 (문서 갯수보다 많이 등장)인 경우: 0 으로 치환 \n",
        "        print(f\"idf_matrix: {idf_matrix}\") \n",
        "        self.idf_matrix = idf_matrix\n",
        "        #assert len(idf_matrix) == len(self.tokenizer.word_dict)    \n",
        "        self.fit_checker = True\n",
        "        \n",
        "    # tf-idf 행렬 생성 함수\n",
        "    def transform(self, sequences):\n",
        "\n",
        "        ''' - tf(d,t): 문장 d에 단어 t가 등장한 횟수\n",
        "            - tf(d,t)*idf(d,t)  \n",
        "            ''' \n",
        "\n",
        "        if self.fit_checker:\n",
        "            tokenized = self.tokenizer.transform(sequences)\n",
        "\n",
        "            tf_matrix = []   # 어휘사전의 단어를 기준으로 각 문장마다 단어가 등장한 횟수(nested list)      \n",
        "            for token in tokenized:\n",
        "                tf = [1 if i in token else 0 for i in range(len(self.tokenizer.word_dict))]\n",
        "                tf_matrix.append(tf)\n",
        "            #print(f\"tf_matrix: {tf_matrix}, len(tf_matrix): {len(tf_matrix)}\")\n",
        "            \n",
        "            tfidf_matrix = []   # tf*idf(fit 함수를 통한 결과(idf_matrix)활용)\n",
        "            for tf in tf_matrix:\n",
        "                tf_idf = [i*j for i , j in zip(tf,self.idf_matrix)]\n",
        "                tfidf_matrix.append(tf_idf)            \n",
        "            #print(f\"tf-idf matrix: {tfidf_matrix}\")\n",
        "            self.tfidf_matrix = tfidf_matrix\n",
        "            return self.tfidf_matrix\n",
        "        else:\n",
        "            raise Exception(\"TfidfVectorizer instance is not fitted yet.\")\n",
        "   \n",
        "    def fit_transform(self, sequences):\n",
        "        self.fit(sequences)\n",
        "        return self.transform(sequences)\n"
      ],
      "metadata": {
        "id": "yGvSNYdkQWcb"
      },
      "execution_count": null,
      "outputs": []
    }
  ]
}